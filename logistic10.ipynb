{
  "nbformat": 4,
  "nbformat_minor": 0,
  "metadata": {
    "colab": {
      "provenance": []
    },
    "kernelspec": {
      "name": "python3",
      "display_name": "Python 3"
    },
    "language_info": {
      "name": "python"
    }
  },
  "cells": [
    {
      "cell_type": "markdown",
      "source": [
        "Logistic Regression"
      ],
      "metadata": {
        "id": "al47Jt3wF7s6"
      }
    },
    {
      "cell_type": "markdown",
      "source": [
        "Theoretical"
      ],
      "metadata": {
        "id": "Wqoy_w6_GIWK"
      }
    },
    {
      "cell_type": "markdown",
      "metadata": {
        "id": "623e33b1"
      },
      "source": [
        "\n",
        "\n",
        "1.  **What is Logistic Regression, and how does it differ from Linear Regression?**\n",
        "\n",
        "    Logistic Regression is a statistical method used for binary classification problems, predicting the probability that an instance belongs to a particular class. It differs from Linear Regression in that it predicts a probability (a value between 0 and 1) by applying a sigmoid function to the linear combination of input features, whereas Linear Regression predicts a continuous output value.\n",
        "\n",
        "2.  **What is the mathematical equation of Logistic Regression?**\n",
        "\n",
        "    The core of Logistic Regression is the linear combination of features:\n",
        "    $z = \\beta_0 + \\beta_1x_1 + \\beta_2x_2 + ... + \\beta_nx_n$\n",
        "    The probability of the instance belonging to the positive class is then given by the sigmoid function:\n",
        "    $P(Y=1|X) = \\frac{1}{1 + e^{-z}}$\n",
        "\n",
        "3.  **Why do we use the Sigmoid function in Logistic Regression?**\n",
        "\n",
        "    The Sigmoid function (also known as the logistic function) is used because it maps any real-valued input to a value between 0 and 1. This is essential for Logistic Regression as we want to predict probabilities. The sigmoid function has a characteristic \"S\" shape, which makes it suitable for modeling the probability of a binary outcome.\n",
        "\n",
        "4.  **What is the cost function of Logistic Regression?**\n",
        "\n",
        "    The most common cost function for Logistic Regression is the Binary Cross-Entropy (or Log Loss) function. For a single training example, the cost is:\n",
        "    $Cost(y, \\hat{y}) = -[y \\log(\\hat{y}) + (1-y) \\log(1-\\hat{y})]$\n",
        "    Where $y$ is the true label (0 or 1) and $\\hat{y}$ is the predicted probability. The overall cost function for the training set is the average of the costs for all training examples.\n",
        "\n",
        "5.  **What is Regularization in Logistic Regression? Why is it needed?**\n",
        "\n",
        "    Regularization is a technique used to prevent overfitting in Logistic Regression by adding a penalty term to the cost function. It discourages the model from assigning excessively large weights to features, which can happen when the model becomes too complex and starts to fit the noise in the training data. Regularization helps to improve the model's generalization performance on unseen data.\n",
        "\n",
        "6.  **Explain the difference between Lasso, Ridge, and Elastic Net regression.**\n",
        "\n",
        "    These are different types of regularization techniques:\n",
        "    *   **Ridge Regression (L2 regularization):** Adds a penalty proportional to the square of the magnitude of the coefficients ($\\sum \\beta_i^2$). It shrinks the coefficients towards zero but rarely makes them exactly zero.\n",
        "    *   **Lasso Regression (L1 regularization):** Adds a penalty proportional to the absolute value of the magnitude of the coefficients ($\\sum |\\beta_i|$). It can shrink some coefficients exactly to zero, effectively performing feature selection.\n",
        "    *   **Elastic Net Regression:** Combines both L1 and L2 penalties. It encourages sparsity like Lasso and also handles correlated features well like Ridge.\n",
        "\n",
        "7.  **When should we use Elastic Net instead of Lasso or Ridge?**\n",
        "\n",
        "    Elastic Net is often preferred over Lasso or Ridge when:\n",
        "    *   There are highly correlated features. Ridge handles correlated features better than Lasso, and Elastic Net benefits from this.\n",
        "    *   You want to perform feature selection (like Lasso) but also handle the situation where multiple correlated features are important (where Lasso might arbitrarily select only one).\n",
        "\n",
        "8.  **What is the impact of the regularization parameter (λ) in Logistic Regression?**\n",
        "\n",
        "    The regularization parameter ($\\lambda$ or alpha in some libraries) controls the strength of the regularization penalty.\n",
        "    *   A large $\\lambda$ imposes a strong penalty, shrinking coefficients more aggressively towards zero. This can lead to a simpler model and potentially underfitting if $\\lambda$ is too large.\n",
        "    *   A small $\\lambda$ imposes a weak penalty, allowing coefficients to be larger. This can lead to a more complex model and potentially overfitting if $\\lambda$ is too small.\n",
        "    Choosing the optimal $\\lambda$ is crucial and is typically done through techniques like cross-validation.\n",
        "\n",
        "9.  **What are the key assumptions of Logistic Regression?**\n",
        "\n",
        "    While Logistic Regression has fewer strict assumptions than Linear Regression, some key considerations include:\n",
        "    *   **Binary outcome:** Logistic Regression is designed for binary classification (two classes).\n",
        "    *   **Linearity of the log-odds:** It assumes a linear relationship between the independent variables and the log-odds of the outcome.\n",
        "    *   **Independence of observations:** The observations are assumed to be independent of each other.\n",
        "    *   **Absence of multicollinearity:** While not a strict assumption, high multicollinearity among independent variables can make coefficient interpretation difficult and affect model stability.\n",
        "\n",
        "10. **What are some alternatives to Logistic Regression for classification tasks?**\n",
        "\n",
        "    Several alternatives exist, including:\n",
        "    *   Support Vector Machines (SVM)\n",
        "    *   Decision Trees\n",
        "    *   Random Forests\n",
        "    *   Gradient Boosting Machines (e.g., XGBoost, LightGBM)\n",
        "    *   K-Nearest Neighbors (KNN)\n",
        "    *   Naive Bayes\n",
        "    *   Neural Networks\n",
        "\n",
        "11. **What are Classification Evaluation Metrics?**\n",
        "\n",
        "    Classification evaluation metrics are used to assess the performance of a classification model. Common metrics include:\n",
        "    *   **Accuracy:** The proportion of correctly classified instances.\n",
        "    *   **Precision:** The proportion of true positive predictions among all positive predictions.\n",
        "    *   **Recall (Sensitivity):** The proportion of true positive predictions among all actual positive instances.\n",
        "    *   **F1-Score:** The harmonic mean of precision and recall, providing a balance between the two.\n",
        "    *   **AUC (Area Under the ROC Curve):** Measures the model's ability to distinguish between positive and negative classes across different probability thresholds.\n",
        "    *   **Log Loss (Binary Cross-Entropy):** A measure of the prediction error, penalizing confident incorrect predictions more heavily.\n",
        "\n",
        "12. **How does class imbalance affect Logistic Regression?**\n",
        "\n",
        "    Class imbalance occurs when the number of instances in one class is significantly lower than in the other. This can negatively affect Logistic Regression by:\n",
        "    *   **Biasing the model:** The model may be biased towards the majority class, leading to poor performance on the minority class.\n",
        "    *   **Misleading accuracy:** High accuracy can be achieved by simply predicting the majority class, even if the model is not effectively identifying the minority class.\n",
        "    Techniques to address class imbalance include oversampling the minority class, undersampling the majority class, using different evaluation metrics, or employing algorithms more robust to imbalance.\n",
        "\n",
        "13. **What is Hyperparameter Tuning in Logistic Regression?**\n",
        "\n",
        "    Hyperparameter tuning is the process of finding the optimal values for the hyperparameters of a Logistic Regression model (or any machine learning model) to maximize its performance. Hyperparameters are settings that are not learned from the data but are set before training. For Logistic Regression, common hyperparameters include the regularization parameter (C or $\\lambda$), the type of penalty (L1, L2, Elastic Net), and the solver.\n",
        "\n",
        "14. **What are different solvers in Logistic Regression? Which one should be used?**\n",
        "\n",
        "    Solvers are algorithms used to optimize the cost function and find the model's coefficients during training. Common solvers in libraries like scikit-learn include:\n",
        "    *   **liblinear:** Good for small datasets and L1/L2 regularization.\n",
        "    *   **newton-cg, lbfgs, sag, saga:** Suitable for larger datasets. `lbfgs` is often the default and a good general-purpose choice. `saga` is a good option for L1 regularization on larger datasets.\n",
        "    The best solver to use depends on the dataset size, the type of regularization, and computational resources. It's often recommended to try different solvers or use the default and see which one performs best.\n",
        "\n",
        "15. **How is Logistic Regression extended for multiclass classification?**\n",
        "\n",
        "    Logistic Regression can be extended for multiclass classification using strategies like:\n",
        "    *   **One-vs-Rest (OvR) or One-vs-All (OvA):** Trains a separate binary Logistic Regression model for each class, where each model distinguishes one class from all the others.\n",
        "    *   **Softmax Regression (Multinomial Logistic Regression):** A direct extension that models the probability of an instance belonging to each class simultaneously using the softmax function.\n",
        "\n",
        "16. **What are the advantages and disadvantages of Logistic Regression?**\n",
        "\n",
        "    **Advantages:**\n",
        "    *   Simple and easy to understand and implement.\n",
        "    *   Computationally efficient, especially for large datasets.\n",
        "    *   Provides probability scores, which can be useful for decision-making.\n",
        "    *   Coefficients can be interpreted to understand the impact of features on the outcome (with caution, especially with regularization).\n",
        "    *   Less prone to overfitting than complex models if regularization is applied.\n",
        "\n",
        "    **Disadvantages:**\n",
        "    *   Assumes a linear relationship between the features and the log-odds, which may not always hold.\n",
        "    *   Can struggle with complex non-linear relationships.\n",
        "    *   May perform poorly when there are many features or highly correlated features (without regularization).\n",
        "    *   Sensitive to outliers.\n",
        "\n",
        "17. **What are some use cases of Logistic Regression?**\n",
        "\n",
        "    Logistic Regression is widely used in various fields, including:\n",
        "    *   **Spam detection:** Classifying emails as spam or not spam.\n",
        "    *   **Medical diagnosis:** Predicting the probability of a disease based on symptoms and patient data.\n",
        "    *   **Credit risk assessment:** Predicting the likelihood of a loan applicant defaulting.\n",
        "    *   **Marketing:** Predicting whether a customer will click on an ad or purchase a product.\n",
        "    *   **Sentiment analysis:** Classifying text as positive or negative sentiment.\n",
        "\n",
        "18. **What is the difference between Softmax Regression and Logistic Regression?**\n",
        "\n",
        "    Logistic Regression is specifically for binary classification (two classes), while Softmax Regression (Multinomial Logistic Regression) is for multiclass classification (more than two classes). Softmax Regression extends the concept of Logistic Regression by calculating probabilities for each class using the softmax function, ensuring that the probabilities for all classes sum up to 1.\n",
        "\n",
        "19. **How do we choose between One-vs-Rest (OvR) and Softmax for multiclass classification?**\n",
        "\n",
        "    The choice between OvR and Softmax can depend on the problem and the library being used.\n",
        "    *   **Softmax** is often preferred when the classes are mutually exclusive (an instance belongs to only one class). It provides a more natural probabilistic interpretation for multiclass problems.\n",
        "    *   **OvR** can be useful when instances can belong to multiple classes (though this is less common in standard classification) or when using algorithms that are inherently binary. In practice, for many standard multiclass problems, Softmax is a good default choice. Some libraries might use OvR as the default for certain algorithms.\n",
        "\n",
        "20. **How do we interpret coefficients in Logistic Regression?**\n",
        "\n",
        "    The coefficients ($\\beta_i$) in Logistic Regression represent the change in the log-odds of the outcome for a one-unit increase in the corresponding feature ($x_i$), assuming all other features are held constant.\n",
        "    *   A positive coefficient indicates that as the feature increases, the log-odds of the positive class increase (and thus the probability of the positive class increases).\n",
        "    *   A negative coefficient indicates that as the feature increases, the log-odds of the positive class decrease (and thus the probability of the positive class decreases).\n",
        "    Interpreting the direct impact on the probability is more complex due to the sigmoid function, but the sign of the coefficient indicates the direction of the relationship. It's important to interpret coefficients with caution, especially in the presence of interactions, non-linearities, or regularization."
      ]
    },
    {
      "cell_type": "markdown",
      "source": [
        "Practical"
      ],
      "metadata": {
        "id": "SRJtIpQsGGHT"
      }
    },
    {
      "cell_type": "code",
      "source": [],
      "metadata": {
        "id": "UDzZoLyqGCj9"
      },
      "execution_count": 19,
      "outputs": []
    },
    {
      "cell_type": "markdown",
      "metadata": {
        "id": "3ce79928"
      },
      "source": [
        "Here are the Python programs for the practical Logistic Regression tasks:"
      ]
    },
    {
      "cell_type": "markdown",
      "metadata": {
        "id": "4049f50e"
      },
      "source": [
        "1.  **Write a Python program that loads a dataset, splits it into training and testing sets, applies Logistic Regression, and prints the model accuracy.**"
      ]
    },
    {
      "cell_type": "code",
      "metadata": {
        "colab": {
          "base_uri": "https://localhost:8080/"
        },
        "id": "fa130f52",
        "outputId": "0a66cff0-343d-4328-f66b-d0eaeed61317"
      },
      "source": [
        "import pandas as pd\n",
        "from sklearn.model_selection import train_test_split\n",
        "from sklearn.linear_model import LogisticRegression\n",
        "from sklearn.metrics import accuracy_score\n",
        "from sklearn.datasets import load_iris\n",
        "\n",
        "# Load a sample dataset (Iris dataset)\n",
        "iris = load_iris()\n",
        "X, y = iris.data, iris.target\n",
        "\n",
        "# For binary classification, let's use only two classes (0 and 1)\n",
        "X = X[y != 2]\n",
        "y = y[y != 2]\n",
        "\n",
        "# Split the dataset into training and testing sets\n",
        "X_train, X_test, y_train, y_test = train_test_split(X, y, test_size=0.3, random_state=42)\n",
        "\n",
        "# Apply Logistic Regression\n",
        "model = LogisticRegression()\n",
        "model.fit(X_train, y_train)\n",
        "\n",
        "# Predict on the test set\n",
        "y_pred = model.predict(X_test)\n",
        "\n",
        "# Print the model accuracy\n",
        "accuracy = accuracy_score(y_test, y_pred)\n",
        "print(f\"Model Accuracy: {accuracy:.4f}\")"
      ],
      "execution_count": 20,
      "outputs": [
        {
          "output_type": "stream",
          "name": "stdout",
          "text": [
            "Model Accuracy: 1.0000\n"
          ]
        }
      ]
    },
    {
      "cell_type": "markdown",
      "metadata": {
        "id": "03217943"
      },
      "source": [
        "2.  **Write a Python program to apply L1 regularization (Lasso) on a dataset using LogisticRegression(penalty='l1') and print the model accuracy.**"
      ]
    },
    {
      "cell_type": "code",
      "metadata": {
        "colab": {
          "base_uri": "https://localhost:8080/"
        },
        "id": "38802998",
        "outputId": "e9b283cc-767a-4b9f-e515-d980ac449659"
      },
      "source": [
        "import pandas as pd\n",
        "from sklearn.model_selection import train_test_split\n",
        "from sklearn.linear_model import LogisticRegression\n",
        "from sklearn.metrics import accuracy_score\n",
        "from sklearn.datasets import load_breast_cancer # Using a dataset where L1 might be more relevant\n",
        "\n",
        "# Load a sample dataset (Breast Cancer dataset)\n",
        "cancer = load_breast_cancer()\n",
        "X, y = cancer.data, cancer.target\n",
        "\n",
        "# Split the dataset into training and testing sets\n",
        "X_train, X_test, y_train, y_test = train_test_split(X, y, test_size=0.3, random_state=42)\n",
        "\n",
        "# Apply Logistic Regression with L1 regularization\n",
        "# 'liblinear' solver supports L1 penalty\n",
        "model_l1 = LogisticRegression(penalty='l1', solver='liblinear', random_state=42)\n",
        "model_l1.fit(X_train, y_train)\n",
        "\n",
        "# Predict on the test set\n",
        "y_pred_l1 = model_l1.predict(X_test)\n",
        "\n",
        "# Print the model accuracy\n",
        "accuracy_l1 = accuracy_score(y_test, y_pred_l1)\n",
        "print(f\"Model Accuracy with L1 Regularization: {accuracy_l1:.4f}\")\n",
        "\n",
        "# Print coefficients (note: some might be zero due to L1)\n",
        "print(\"\\nModel Coefficients with L1 Regularization:\")\n",
        "for i, coef in enumerate(model_l1.coef_[0]):\n",
        "    print(f\"Feature {i}: {coef:.4f}\")"
      ],
      "execution_count": 21,
      "outputs": [
        {
          "output_type": "stream",
          "name": "stdout",
          "text": [
            "Model Accuracy with L1 Regularization: 0.9649\n",
            "\n",
            "Model Coefficients with L1 Regularization:\n",
            "Feature 0: 4.1745\n",
            "Feature 1: 0.1504\n",
            "Feature 2: -0.2902\n",
            "Feature 3: -0.0153\n",
            "Feature 4: 0.0000\n",
            "Feature 5: 0.0000\n",
            "Feature 6: 0.0000\n",
            "Feature 7: 0.0000\n",
            "Feature 8: 0.0000\n",
            "Feature 9: 0.0000\n",
            "Feature 10: 0.0000\n",
            "Feature 11: 1.8394\n",
            "Feature 12: 0.0000\n",
            "Feature 13: -0.1119\n",
            "Feature 14: 0.0000\n",
            "Feature 15: 0.0000\n",
            "Feature 16: 0.0000\n",
            "Feature 17: 0.0000\n",
            "Feature 18: 0.0000\n",
            "Feature 19: 0.0000\n",
            "Feature 20: 0.0000\n",
            "Feature 21: -0.4274\n",
            "Feature 22: 0.0000\n",
            "Feature 23: -0.0141\n",
            "Feature 24: 0.0000\n",
            "Feature 25: 0.0000\n",
            "Feature 26: -4.2093\n",
            "Feature 27: 0.0000\n",
            "Feature 28: 0.0000\n",
            "Feature 29: 0.0000\n"
          ]
        }
      ]
    },
    {
      "cell_type": "markdown",
      "metadata": {
        "id": "a0fcb88f"
      },
      "source": [
        "3.  **Write a Python program to train Logistic Regression with L2 regularization (Ridge) using LogisticRegression(penalty='l2'). Print model accuracy and coefficients.**"
      ]
    },
    {
      "cell_type": "code",
      "metadata": {
        "colab": {
          "base_uri": "https://localhost:8080/"
        },
        "id": "da6421d0",
        "outputId": "04a4d6f3-db13-408e-e57d-3ba843abad99"
      },
      "source": [
        "import pandas as pd\n",
        "from sklearn.model_selection import train_test_split\n",
        "from sklearn.linear_model import LogisticRegression\n",
        "from sklearn.metrics import accuracy_score\n",
        "# from sklearn.datasets import load_boston # Using a dataset (for demonstration, though Boston is regression)\n",
        "# Let's switch back to a classification dataset for consistency\n",
        "from sklearn.datasets import load_breast_cancer\n",
        "\n",
        "# Load a sample dataset (Breast Cancer dataset)\n",
        "cancer = load_breast_cancer()\n",
        "X, y = cancer.data, cancer.target\n",
        "\n",
        "# Split the dataset into training and testing sets\n",
        "X_train, X_test, y_train, y_test = train_test_split(X, y, test_size=0.3, random_state=42)\n",
        "\n",
        "# Apply Logistic Regression with L2 regularization\n",
        "model_l2 = LogisticRegression(penalty='l2', solver='liblinear', random_state=42)\n",
        "model_l2.fit(X_train, y_train)\n",
        "\n",
        "# Predict on the test set\n",
        "y_pred_l2 = model_l2.predict(X_test)\n",
        "\n",
        "# Print the model accuracy\n",
        "accuracy_l2 = accuracy_score(y_test, y_pred_l2)\n",
        "print(f\"Model Accuracy with L2 Regularization: {accuracy_l2:.4f}\")\n",
        "\n",
        "# Print coefficients\n",
        "print(\"\\nModel Coefficients with L2 Regularization:\")\n",
        "for i, coef in enumerate(model_l2.coef_[0]):\n",
        "    print(f\"Feature {i}: {coef:.4f}\")"
      ],
      "execution_count": 22,
      "outputs": [
        {
          "output_type": "stream",
          "name": "stdout",
          "text": [
            "Model Accuracy with L2 Regularization: 0.9649\n",
            "\n",
            "Model Coefficients with L2 Regularization:\n",
            "Feature 0: 2.1753\n",
            "Feature 1: 0.1597\n",
            "Feature 2: -0.1254\n",
            "Feature 3: -0.0040\n",
            "Feature 4: -0.1304\n",
            "Feature 5: -0.4113\n",
            "Feature 6: -0.6550\n",
            "Feature 7: -0.3501\n",
            "Feature 8: -0.2022\n",
            "Feature 9: -0.0293\n",
            "Feature 10: -0.0661\n",
            "Feature 11: 1.4036\n",
            "Feature 12: 0.1179\n",
            "Feature 13: -0.1093\n",
            "Feature 14: -0.0146\n",
            "Feature 15: -0.0248\n",
            "Feature 16: -0.0635\n",
            "Feature 17: -0.0411\n",
            "Feature 18: -0.0488\n",
            "Feature 19: -0.0008\n",
            "Feature 20: 1.1552\n",
            "Feature 21: -0.3903\n",
            "Feature 22: -0.0768\n",
            "Feature 23: -0.0213\n",
            "Feature 24: -0.2421\n",
            "Feature 25: -1.1398\n",
            "Feature 26: -1.5793\n",
            "Feature 27: -0.6174\n",
            "Feature 28: -0.7291\n",
            "Feature 29: -0.1108\n"
          ]
        }
      ]
    },
    {
      "cell_type": "markdown",
      "metadata": {
        "id": "668179d4"
      },
      "source": [
        "4.  **Write a Python program to train Logistic Regression with Elastic Net Regularization (penalty='elasticnet').**"
      ]
    },
    {
      "cell_type": "code",
      "metadata": {
        "colab": {
          "base_uri": "https://localhost:8080/"
        },
        "id": "f9bb7571",
        "outputId": "1e0ab050-884c-4ca3-b5dd-94ac11716c97"
      },
      "source": [
        "import pandas as pd\n",
        "from sklearn.model_selection import train_test_split\n",
        "from sklearn.linear_model import LogisticRegression\n",
        "from sklearn.metrics import accuracy_score\n",
        "from sklearn.datasets import load_breast_cancer\n",
        "\n",
        "# Load a sample dataset (Breast Cancer dataset)\n",
        "cancer = load_breast_cancer()\n",
        "X, y = cancer.data, cancer.target\n",
        "\n",
        "# Split the dataset into training and testing sets\n",
        "X_train, X_test, y_train, y_test = train_test_split(X, y, test_size=0.3, random_state=42)\n",
        "\n",
        "# Apply Logistic Regression with Elastic Net regularization\n",
        "# 'saga' solver supports Elastic Net\n",
        "# l1_ratio controls the mix of L1 and L2 (0 for L2, 1 for L1)\n",
        "model_elasticnet = LogisticRegression(penalty='elasticnet', solver='saga', l1_ratio=0.5, random_state=42)\n",
        "model_elasticnet.fit(X_train, y_train)\n",
        "\n",
        "# Predict on the test set\n",
        "y_pred_elasticnet = model_elasticnet.predict(X_test)\n",
        "\n",
        "# Print the model accuracy\n",
        "accuracy_elasticnet = accuracy_score(y_test, y_pred_elasticnet)\n",
        "print(f\"Model Accuracy with Elastic Net Regularization: {accuracy_elasticnet:.4f}\")\n",
        "\n",
        "# Print coefficients\n",
        "print(\"\\nModel Coefficients with Elastic Net Regularization:\")\n",
        "for i, coef in enumerate(model_elasticnet.coef_[0]):\n",
        "    print(f\"Feature {i}: {coef:.4f}\")"
      ],
      "execution_count": 23,
      "outputs": [
        {
          "output_type": "stream",
          "name": "stdout",
          "text": [
            "Model Accuracy with Elastic Net Regularization: 0.9532\n",
            "\n",
            "Model Coefficients with Elastic Net Regularization:\n",
            "Feature 0: 0.0026\n",
            "Feature 1: 0.0047\n",
            "Feature 2: 0.0155\n",
            "Feature 3: 0.0110\n",
            "Feature 4: 0.0000\n",
            "Feature 5: 0.0000\n",
            "Feature 6: -0.0000\n",
            "Feature 7: -0.0000\n",
            "Feature 8: 0.0000\n",
            "Feature 9: 0.0000\n",
            "Feature 10: 0.0000\n",
            "Feature 11: 0.0004\n",
            "Feature 12: 0.0000\n",
            "Feature 13: -0.0060\n",
            "Feature 14: 0.0000\n",
            "Feature 15: 0.0000\n",
            "Feature 16: 0.0000\n",
            "Feature 17: 0.0000\n",
            "Feature 18: 0.0000\n",
            "Feature 19: 0.0000\n",
            "Feature 20: 0.0026\n",
            "Feature 21: 0.0059\n",
            "Feature 22: 0.0154\n",
            "Feature 23: -0.0121\n",
            "Feature 24: 0.0000\n",
            "Feature 25: -0.0000\n",
            "Feature 26: -0.0000\n",
            "Feature 27: -0.0000\n",
            "Feature 28: 0.0001\n",
            "Feature 29: 0.0000\n"
          ]
        },
        {
          "output_type": "stream",
          "name": "stderr",
          "text": [
            "/usr/local/lib/python3.11/dist-packages/sklearn/linear_model/_sag.py:348: ConvergenceWarning: The max_iter was reached which means the coef_ did not converge\n",
            "  warnings.warn(\n"
          ]
        }
      ]
    },
    {
      "cell_type": "markdown",
      "metadata": {
        "id": "bfbcb2fe"
      },
      "source": [
        "5.  **Write a Python program to train a Logistic Regression model for multiclass classification using multi_class='ovr'.**"
      ]
    },
    {
      "cell_type": "code",
      "metadata": {
        "colab": {
          "base_uri": "https://localhost:8080/"
        },
        "id": "7968ab69",
        "outputId": "e2830bb5-e370-4605-d3d0-140ca8ab93b9"
      },
      "source": [
        "import pandas as pd\n",
        "from sklearn.model_selection import train_test_split\n",
        "from sklearn.linear_model import LogisticRegression\n",
        "from sklearn.metrics import accuracy_score\n",
        "from sklearn.datasets import load_iris\n",
        "\n",
        "# Load a sample dataset (Iris dataset) - this is a multiclass dataset\n",
        "iris = load_iris()\n",
        "X, y = iris.data, iris.target\n",
        "\n",
        "# Split the dataset into training and testing sets\n",
        "X_train, X_test, y_train, y_test = train_test_split(X, y, test_size=0.3, random_state=42)\n",
        "\n",
        "# Apply Logistic Regression for multiclass classification using 'ovr' strategy\n",
        "# 'liblinear' solver only supports 'ovr' for multiclass\n",
        "model_ovr = LogisticRegression(multi_class='ovr', solver='liblinear', random_state=42)\n",
        "model_ovr.fit(X_train, y_train)\n",
        "\n",
        "# Predict on the test set\n",
        "y_pred_ovr = model_ovr.predict(X_test)\n",
        "\n",
        "# Print the model accuracy\n",
        "accuracy_ovr = accuracy_score(y_test, y_pred_ovr)\n",
        "print(f\"Multiclass Model Accuracy (OvR): {accuracy_ovr:.4f}\")"
      ],
      "execution_count": 24,
      "outputs": [
        {
          "output_type": "stream",
          "name": "stdout",
          "text": [
            "Multiclass Model Accuracy (OvR): 0.9778\n"
          ]
        },
        {
          "output_type": "stream",
          "name": "stderr",
          "text": [
            "/usr/local/lib/python3.11/dist-packages/sklearn/linear_model/_logistic.py:1256: FutureWarning: 'multi_class' was deprecated in version 1.5 and will be removed in 1.7. Use OneVsRestClassifier(LogisticRegression(..)) instead. Leave it to its default value to avoid this warning.\n",
            "  warnings.warn(\n"
          ]
        }
      ]
    },
    {
      "cell_type": "markdown",
      "metadata": {
        "id": "88ddcfdc"
      },
      "source": [
        "6.  **Write a Python program to apply GridSearchCV to tune the hyperparameters (C and penalty) of Logistic Regression. Print the best parameters and accuracy.**"
      ]
    },
    {
      "cell_type": "code",
      "metadata": {
        "colab": {
          "base_uri": "https://localhost:8080/"
        },
        "id": "b7ce137f",
        "outputId": "7bee03f7-bfa0-4e9f-c196-2d724783e3c4"
      },
      "source": [
        "import pandas as pd\n",
        "from sklearn.model_selection import train_test_split, GridSearchCV\n",
        "from sklearn.linear_model import LogisticRegression\n",
        "from sklearn.metrics import accuracy_score\n",
        "from sklearn.datasets import load_breast_cancer\n",
        "\n",
        "# Load a sample dataset (Breast Cancer dataset)\n",
        "cancer = load_breast_cancer()\n",
        "X, y = cancer.data, cancer.target\n",
        "\n",
        "# Split the dataset into training and testing sets\n",
        "X_train, X_test, y_train, y_test = train_test_split(X, y, test_size=0.3, random_state=42)\n",
        "\n",
        "# Define the parameter grid to search\n",
        "# Note: Not all penalties work with all solvers.\n",
        "# For simplicity, let's use 'liblinear' which supports 'l1' and 'l2'.\n",
        "param_grid = {\n",
        "    'C': [0.001, 0.01, 0.1, 1, 10, 100],\n",
        "    'penalty': ['l1', 'l2']\n",
        "}\n",
        "\n",
        "# Create a Logistic Regression model\n",
        "model = LogisticRegression(solver='liblinear', random_state=42)\n",
        "\n",
        "# Apply GridSearchCV\n",
        "grid_search = GridSearchCV(model, param_grid, cv=5, scoring='accuracy')\n",
        "grid_search.fit(X_train, y_train)\n",
        "\n",
        "# Print the best parameters and best score\n",
        "print(\"Best Parameters found by GridSearchCV:\")\n",
        "print(grid_search.best_params_)\n",
        "\n",
        "print(\"\\nBest Cross-Validation Accuracy found by GridSearchCV:\")\n",
        "print(f\"{grid_search.best_score_:.4f}\")\n",
        "\n",
        "# Evaluate the best model on the test set\n",
        "best_model = grid_search.best_estimator_\n",
        "y_pred = best_model.predict(X_test)\n",
        "test_accuracy = accuracy_score(y_test, y_pred)\n",
        "print(f\"\\nTest Set Accuracy with Best Model: {test_accuracy:.4f}\")"
      ],
      "execution_count": 25,
      "outputs": [
        {
          "output_type": "stream",
          "name": "stderr",
          "text": [
            "/usr/local/lib/python3.11/dist-packages/sklearn/svm/_base.py:1249: ConvergenceWarning: Liblinear failed to converge, increase the number of iterations.\n",
            "  warnings.warn(\n",
            "/usr/local/lib/python3.11/dist-packages/sklearn/svm/_base.py:1249: ConvergenceWarning: Liblinear failed to converge, increase the number of iterations.\n",
            "  warnings.warn(\n",
            "/usr/local/lib/python3.11/dist-packages/sklearn/svm/_base.py:1249: ConvergenceWarning: Liblinear failed to converge, increase the number of iterations.\n",
            "  warnings.warn(\n",
            "/usr/local/lib/python3.11/dist-packages/sklearn/svm/_base.py:1249: ConvergenceWarning: Liblinear failed to converge, increase the number of iterations.\n",
            "  warnings.warn(\n",
            "/usr/local/lib/python3.11/dist-packages/sklearn/svm/_base.py:1249: ConvergenceWarning: Liblinear failed to converge, increase the number of iterations.\n",
            "  warnings.warn(\n",
            "/usr/local/lib/python3.11/dist-packages/sklearn/svm/_base.py:1249: ConvergenceWarning: Liblinear failed to converge, increase the number of iterations.\n",
            "  warnings.warn(\n"
          ]
        },
        {
          "output_type": "stream",
          "name": "stdout",
          "text": [
            "Best Parameters found by GridSearchCV:\n",
            "{'C': 100, 'penalty': 'l1'}\n",
            "\n",
            "Best Cross-Validation Accuracy found by GridSearchCV:\n",
            "0.9673\n",
            "\n",
            "Test Set Accuracy with Best Model: 0.9766\n"
          ]
        }
      ]
    },
    {
      "cell_type": "markdown",
      "metadata": {
        "id": "c6eaf517"
      },
      "source": [
        "7.  **Write a Python program to evaluate Logistic Regression using Stratified K-Fold Cross-Validation. Print the average accuracy.**"
      ]
    },
    {
      "cell_type": "code",
      "metadata": {
        "colab": {
          "base_uri": "https://localhost:8080/"
        },
        "id": "4a7c9877",
        "outputId": "5a4dba79-d69f-4748-8081-4c88ce5fc6a1"
      },
      "source": [
        "import pandas as pd\n",
        "from sklearn.model_selection import StratifiedKFold, cross_val_score\n",
        "from sklearn.linear_model import LogisticRegression\n",
        "from sklearn.datasets import load_breast_cancer\n",
        "\n",
        "# Load a sample dataset (Breast Cancer dataset)\n",
        "cancer = load_breast_cancer()\n",
        "X, y = cancer.data, cancer.target\n",
        "\n",
        "# Create a Logistic Regression model\n",
        "model = LogisticRegression(solver='liblinear', random_state=42)\n",
        "\n",
        "# Apply Stratified K-Fold Cross-Validation\n",
        "# StratifiedKFold ensures that each fold has the same proportion of observations\n",
        "# of the target variable as the original dataset.\n",
        "skf = StratifiedKFold(n_splits=5, shuffle=True, random_state=42)\n",
        "\n",
        "# Get cross-validation scores\n",
        "scores = cross_val_score(model, X, y, cv=skf, scoring='accuracy')\n",
        "\n",
        "# Print the scores for each fold\n",
        "print(\"Accuracy for each fold:\", [f\"{score:.4f}\" for score in scores])\n",
        "\n",
        "# Print the average accuracy\n",
        "print(f\"\\nAverage Cross-Validation Accuracy: {scores.mean():.4f}\")"
      ],
      "execution_count": 26,
      "outputs": [
        {
          "output_type": "stream",
          "name": "stdout",
          "text": [
            "Accuracy for each fold: ['0.9474', '0.9211', '0.9561', '0.9649', '0.9646']\n",
            "\n",
            "Average Cross-Validation Accuracy: 0.9508\n"
          ]
        }
      ]
    },
    {
      "cell_type": "markdown",
      "metadata": {
        "id": "c4a80ffb"
      },
      "source": [
        "8.  **Write a Python program to load a dataset from a CSV file, apply Logistic Regression, and evaluate its accuracy.**"
      ]
    },
    {
      "cell_type": "code",
      "metadata": {
        "colab": {
          "base_uri": "https://localhost:8080/"
        },
        "id": "b91f9da2",
        "outputId": "30c49092-560c-48b9-8b9b-eb24562b4e29"
      },
      "source": [
        "import pandas as pd\n",
        "from sklearn.model_selection import train_test_split\n",
        "from sklearn.linear_model import LogisticRegression\n",
        "from sklearn.metrics import accuracy_score\n",
        "from sklearn.datasets import make_classification # Generate a synthetic dataset for demonstration\n",
        "\n",
        "# Generate a synthetic dataset and save it to a CSV\n",
        "X, y = make_classification(n_samples=200, n_features=20, random_state=42)\n",
        "df = pd.DataFrame(X, columns=[f'feature_{i}' for i in range(X.shape[1])])\n",
        "df['target'] = y\n",
        "csv_filename = 'synthetic_data.csv'\n",
        "df.to_csv(csv_filename, index=False)\n",
        "\n",
        "print(f\"Synthetic dataset saved to {csv_filename}\")\n",
        "\n",
        "# Load the dataset from the CSV file\n",
        "try:\n",
        "    data = pd.read_csv(csv_filename)\n",
        "\n",
        "    # Separate features (X) and target (y)\n",
        "    X = data.drop('target', axis=1)\n",
        "    y = data['target']\n",
        "\n",
        "    # Split the dataset into training and testing sets\n",
        "    X_train, X_test, y_train, y_test = train_test_split(X, y, test_size=0.3, random_state=42)\n",
        "\n",
        "    # Apply Logistic Regression\n",
        "    model = LogisticRegression(solver='liblinear', random_state=42)\n",
        "    model.fit(X_train, y_train)\n",
        "\n",
        "    # Predict on the test set\n",
        "    y_pred = model.predict(X_test)\n",
        "\n",
        "    # Print the model accuracy\n",
        "    accuracy = accuracy_score(y_test, y_pred)\n",
        "    print(f\"\\nModel Accuracy after loading from CSV: {accuracy:.4f}\")\n",
        "\n",
        "except FileNotFoundError:\n",
        "    print(f\"Error: The file '{csv_filename}' was not found.\")\n",
        "except Exception as e:\n",
        "    print(f\"An error occurred: {e}\")"
      ],
      "execution_count": 27,
      "outputs": [
        {
          "output_type": "stream",
          "name": "stdout",
          "text": [
            "Synthetic dataset saved to synthetic_data.csv\n",
            "\n",
            "Model Accuracy after loading from CSV: 0.8000\n"
          ]
        }
      ]
    },
    {
      "cell_type": "markdown",
      "metadata": {
        "id": "f7215b62"
      },
      "source": [
        "Here are more Python programs for practical Logistic Regression tasks:"
      ]
    },
    {
      "cell_type": "markdown",
      "metadata": {
        "id": "820b16da"
      },
      "source": [
        "9. **Write a Python program to apply RandomizedSearchCV for tuning hyperparameters (C, penalty, solver) in Logistic Regression. Print the best parameters and accuracy.**"
      ]
    },
    {
      "cell_type": "code",
      "metadata": {
        "colab": {
          "base_uri": "https://localhost:8080/"
        },
        "id": "a1752555",
        "outputId": "15769180-9a94-4815-f096-9418c064a4e0"
      },
      "source": [
        "import pandas as pd\n",
        "from sklearn.model_selection import train_test_split, RandomizedSearchCV\n",
        "from sklearn.linear_model import LogisticRegression\n",
        "from sklearn.metrics import accuracy_score\n",
        "from sklearn.datasets import load_breast_cancer\n",
        "from scipy.stats import uniform\n",
        "\n",
        "# Load a sample dataset (Breast Cancer dataset)\n",
        "cancer = load_breast_cancer()\n",
        "X, y = cancer.data, cancer.target\n",
        "\n",
        "# Split the dataset into training and testing sets\n",
        "X_train, X_test, y_train, y_test = train_test_split(X, y, test_size=0.3, random_state=42)\n",
        "\n",
        "# Define the parameter distribution to sample from\n",
        "# Note: Ensure compatibility between penalty and solver\n",
        "param_dist = {\n",
        "    'C': uniform(loc=0, scale=10), # Continuous distribution for C\n",
        "    'penalty': ['l1', 'l2'], # Categorical for penalty\n",
        "    'solver': ['liblinear', 'saga'] # Solvers that support l1 and l2\n",
        "}\n",
        "\n",
        "# Create a Logistic Regression model\n",
        "model = LogisticRegression(random_state=42)\n",
        "\n",
        "# Apply RandomizedSearchCV\n",
        "# n_iter: Number of parameter settings that are sampled.\n",
        "# cv: number of folds for cross-validation\n",
        "# scoring: evaluation metric\n",
        "# random_state: for reproducibility\n",
        "random_search = RandomizedSearchCV(model, param_distributions=param_dist, n_iter=10, cv=5, scoring='accuracy', random_state=42)\n",
        "random_search.fit(X_train, y_train)\n",
        "\n",
        "# Print the best parameters and best score\n",
        "print(\"Best Parameters found by RandomizedSearchCV:\")\n",
        "print(random_search.best_params_)\n",
        "\n",
        "print(\"\\nBest Cross-Validation Accuracy found by RandomizedSearchCV:\")\n",
        "print(f\"{random_search.best_score_:.4f}\")\n",
        "\n",
        "# Evaluate the best model on the test set\n",
        "best_model = random_search.best_estimator_\n",
        "y_pred = best_model.predict(X_test)\n",
        "test_accuracy = accuracy_score(y_test, y_pred)\n",
        "print(f\"\\nTest Set Accuracy with Best Model: {test_accuracy:.4f}\")"
      ],
      "execution_count": 28,
      "outputs": [
        {
          "output_type": "stream",
          "name": "stderr",
          "text": [
            "/usr/local/lib/python3.11/dist-packages/sklearn/svm/_base.py:1249: ConvergenceWarning: Liblinear failed to converge, increase the number of iterations.\n",
            "  warnings.warn(\n",
            "/usr/local/lib/python3.11/dist-packages/sklearn/svm/_base.py:1249: ConvergenceWarning: Liblinear failed to converge, increase the number of iterations.\n",
            "  warnings.warn(\n",
            "/usr/local/lib/python3.11/dist-packages/sklearn/svm/_base.py:1249: ConvergenceWarning: Liblinear failed to converge, increase the number of iterations.\n",
            "  warnings.warn(\n",
            "/usr/local/lib/python3.11/dist-packages/sklearn/svm/_base.py:1249: ConvergenceWarning: Liblinear failed to converge, increase the number of iterations.\n",
            "  warnings.warn(\n",
            "/usr/local/lib/python3.11/dist-packages/sklearn/svm/_base.py:1249: ConvergenceWarning: Liblinear failed to converge, increase the number of iterations.\n",
            "  warnings.warn(\n",
            "/usr/local/lib/python3.11/dist-packages/sklearn/svm/_base.py:1249: ConvergenceWarning: Liblinear failed to converge, increase the number of iterations.\n",
            "  warnings.warn(\n",
            "/usr/local/lib/python3.11/dist-packages/sklearn/linear_model/_sag.py:348: ConvergenceWarning: The max_iter was reached which means the coef_ did not converge\n",
            "  warnings.warn(\n",
            "/usr/local/lib/python3.11/dist-packages/sklearn/linear_model/_sag.py:348: ConvergenceWarning: The max_iter was reached which means the coef_ did not converge\n",
            "  warnings.warn(\n",
            "/usr/local/lib/python3.11/dist-packages/sklearn/linear_model/_sag.py:348: ConvergenceWarning: The max_iter was reached which means the coef_ did not converge\n",
            "  warnings.warn(\n",
            "/usr/local/lib/python3.11/dist-packages/sklearn/linear_model/_sag.py:348: ConvergenceWarning: The max_iter was reached which means the coef_ did not converge\n",
            "  warnings.warn(\n",
            "/usr/local/lib/python3.11/dist-packages/sklearn/linear_model/_sag.py:348: ConvergenceWarning: The max_iter was reached which means the coef_ did not converge\n",
            "  warnings.warn(\n",
            "/usr/local/lib/python3.11/dist-packages/sklearn/linear_model/_sag.py:348: ConvergenceWarning: The max_iter was reached which means the coef_ did not converge\n",
            "  warnings.warn(\n",
            "/usr/local/lib/python3.11/dist-packages/sklearn/linear_model/_sag.py:348: ConvergenceWarning: The max_iter was reached which means the coef_ did not converge\n",
            "  warnings.warn(\n",
            "/usr/local/lib/python3.11/dist-packages/sklearn/linear_model/_sag.py:348: ConvergenceWarning: The max_iter was reached which means the coef_ did not converge\n",
            "  warnings.warn(\n",
            "/usr/local/lib/python3.11/dist-packages/sklearn/linear_model/_sag.py:348: ConvergenceWarning: The max_iter was reached which means the coef_ did not converge\n",
            "  warnings.warn(\n",
            "/usr/local/lib/python3.11/dist-packages/sklearn/linear_model/_sag.py:348: ConvergenceWarning: The max_iter was reached which means the coef_ did not converge\n",
            "  warnings.warn(\n",
            "/usr/local/lib/python3.11/dist-packages/sklearn/svm/_base.py:1249: ConvergenceWarning: Liblinear failed to converge, increase the number of iterations.\n",
            "  warnings.warn(\n",
            "/usr/local/lib/python3.11/dist-packages/sklearn/svm/_base.py:1249: ConvergenceWarning: Liblinear failed to converge, increase the number of iterations.\n",
            "  warnings.warn(\n"
          ]
        },
        {
          "output_type": "stream",
          "name": "stdout",
          "text": [
            "Best Parameters found by RandomizedSearchCV:\n",
            "{'C': np.float64(7.319939418114051), 'penalty': 'l1', 'solver': 'liblinear'}\n",
            "\n",
            "Best Cross-Validation Accuracy found by RandomizedSearchCV:\n",
            "0.9622\n",
            "\n",
            "Test Set Accuracy with Best Model: 0.9708\n"
          ]
        }
      ]
    },
    {
      "cell_type": "markdown",
      "metadata": {
        "id": "257dec94"
      },
      "source": [
        "10. **Write a Python program to implement One-vs-One (OvO) Multiclass Logistic Regression and print accuracy.**"
      ]
    },
    {
      "cell_type": "code",
      "metadata": {
        "colab": {
          "base_uri": "https://localhost:8080/"
        },
        "id": "faa5ce6a",
        "outputId": "bb5c95fb-eef3-4d2b-f9cf-d05cbb0e4cd9"
      },
      "source": [
        "import pandas as pd\n",
        "from sklearn.model_selection import train_test_split\n",
        "from sklearn.linear_model import LogisticRegression\n",
        "from sklearn.multiclass import OneVsOneClassifier\n",
        "from sklearn.metrics import accuracy_score\n",
        "from sklearn.datasets import load_iris # Multiclass dataset\n",
        "\n",
        "# Load a sample multiclass dataset (Iris dataset)\n",
        "iris = load_iris()\n",
        "X, y = iris.data, iris.target\n",
        "\n",
        "# Split the dataset into training and testing sets\n",
        "X_train, X_test, y_train, y_test = train_test_split(X, y, test_size=0.3, random_state=42)\n",
        "\n",
        "# Create a Logistic Regression base model\n",
        "base_model = LogisticRegression(solver='liblinear', random_state=42) # liblinear supports binary\n",
        "\n",
        "# Apply One-vs-One strategy for multiclass classification\n",
        "# This trains a separate binary classifier for each pair of classes.\n",
        "model_ovo = OneVsOneClassifier(base_model)\n",
        "model_ovo.fit(X_train, y_train)\n",
        "\n",
        "# Predict on the test set\n",
        "y_pred_ovo = model_ovo.predict(X_test)\n",
        "\n",
        "# Print the model accuracy\n",
        "accuracy_ovo = accuracy_score(y_test, y_pred_ovo)\n",
        "print(f\"Multiclass Model Accuracy (OvO): {accuracy_ovo:.4f}\")"
      ],
      "execution_count": 29,
      "outputs": [
        {
          "output_type": "stream",
          "name": "stdout",
          "text": [
            "Multiclass Model Accuracy (OvO): 1.0000\n"
          ]
        }
      ]
    },
    {
      "cell_type": "markdown",
      "metadata": {
        "id": "2b78b6d2"
      },
      "source": [
        "11. **Write a Python program to train a Logistic Regression model and visualize the confusion matrix for binary classification.**"
      ]
    },
    {
      "cell_type": "code",
      "metadata": {
        "colab": {
          "base_uri": "https://localhost:8080/",
          "height": 651
        },
        "id": "2a5dc37d",
        "outputId": "ae3dd2b5-92a7-418c-d360-55fe0316a6b5"
      },
      "source": [
        "import pandas as pd\n",
        "import matplotlib.pyplot as plt\n",
        "import seaborn as sns\n",
        "from sklearn.model_selection import train_test_split\n",
        "from sklearn.linear_model import LogisticRegression\n",
        "from sklearn.metrics import confusion_matrix, accuracy_score\n",
        "from sklearn.datasets import load_breast_cancer # Binary classification dataset\n",
        "\n",
        "# Load a sample binary dataset (Breast Cancer dataset)\n",
        "cancer = load_breast_cancer()\n",
        "X, y = cancer.data, cancer.target\n",
        "\n",
        "# Split the dataset into training and testing sets\n",
        "X_train, X_test, y_train, y_test = train_test_split(X, y, test_size=0.3, random_state=42)\n",
        "\n",
        "# Apply Logistic Regression\n",
        "model = LogisticRegression(solver='liblinear', random_state=42)\n",
        "model.fit(X_train, y_train)\n",
        "\n",
        "# Predict on the test set\n",
        "y_pred = model.predict(X_test)\n",
        "\n",
        "# Calculate the confusion matrix\n",
        "cm = confusion_matrix(y_test, y_pred)\n",
        "\n",
        "# Print the confusion matrix\n",
        "print(\"Confusion Matrix:\")\n",
        "print(cm)\n",
        "\n",
        "# Visualize the confusion matrix\n",
        "plt.figure(figsize=(8, 6))\n",
        "sns.heatmap(cm, annot=True, fmt='d', cmap='Blues', cbar=False,\n",
        "            xticklabels=cancer.target_names, yticklabels=cancer.target_names)\n",
        "plt.xlabel('Predicted Label')\n",
        "plt.ylabel('True Label')\n",
        "plt.title('Confusion Matrix - Logistic Regression')\n",
        "plt.show()\n",
        "\n",
        "# Print accuracy for context\n",
        "accuracy = accuracy_score(y_test, y_pred)\n",
        "print(f\"\\nModel Accuracy: {accuracy:.4f}\")"
      ],
      "execution_count": 30,
      "outputs": [
        {
          "output_type": "stream",
          "name": "stdout",
          "text": [
            "Confusion Matrix:\n",
            "[[ 59   4]\n",
            " [  2 106]]\n"
          ]
        },
        {
          "output_type": "display_data",
          "data": {
            "text/plain": [
              "<Figure size 800x600 with 1 Axes>"
            ],
            "image/png": "[encoded data removed]"
          },
          "metadata": {}
        },
        {
          "output_type": "stream",
          "name": "stdout",
          "text": [
            "\n",
            "Model Accuracy: 0.9649\n"
          ]
        }
      ]
    },
    {
      "cell_type": "markdown",
      "metadata": {
        "id": "7c9fa573"
      },
      "source": [
        "12. **Write a Python program to train a Logistic Regression model and evaluate its performance using Precision, Recall, and F1-Score.**"
      ]
    },
    {
      "cell_type": "code",
      "metadata": {
        "colab": {
          "base_uri": "https://localhost:8080/"
        },
        "id": "a5c2c374",
        "outputId": "47ae81df-0170-4ba2-829d-9687c48e067b"
      },
      "source": [
        "import pandas as pd\n",
        "from sklearn.model_selection import train_test_split\n",
        "from sklearn.linear_model import LogisticRegression\n",
        "from sklearn.metrics import precision_score, recall_score, f1_score, accuracy_score\n",
        "from sklearn.datasets import load_breast_cancer # Binary classification dataset\n",
        "\n",
        "# Load a sample binary dataset (Breast Cancer dataset)\n",
        "cancer = load_breast_cancer()\n",
        "X, y = cancer.data, cancer.target\n",
        "\n",
        "# Split the dataset into training and testing sets\n",
        "X_train, X_test, y_train, y_test = train_test_split(X, y, test_size=0.3, random_state=42)\n",
        "\n",
        "# Apply Logistic Regression\n",
        "model = LogisticRegression(solver='liblinear', random_state=42)\n",
        "model.fit(X_train, y_train)\n",
        "\n",
        "# Predict on the test set\n",
        "y_pred = model.predict(X_test)\n",
        "\n",
        "# Calculate evaluation metrics\n",
        "accuracy = accuracy_score(y_test, y_pred)\n",
        "precision = precision_score(y_test, y_pred)\n",
        "recall = recall_score(y_test, y_pred)\n",
        "f1 = f1_score(y_test, y_pred)\n",
        "\n",
        "# Print the metrics\n",
        "print(f\"Model Accuracy: {accuracy:.4f}\")\n",
        "print(f\"Model Precision: {precision:.4f}\")\n",
        "print(f\"Model Recall: {recall:.4f}\")\n",
        "print(f\"Model F1-Score: {f1:.4f}\")"
      ],
      "execution_count": 31,
      "outputs": [
        {
          "output_type": "stream",
          "name": "stdout",
          "text": [
            "Model Accuracy: 0.9649\n",
            "Model Precision: 0.9636\n",
            "Model Recall: 0.9815\n",
            "Model F1-Score: 0.9725\n"
          ]
        }
      ]
    },
    {
      "cell_type": "markdown",
      "metadata": {
        "id": "02213af1"
      },
      "source": [
        "13. **Write a Python program to train a Logistic Regression model on imbalanced data and apply class weights to improve model performance.**"
      ]
    },
    {
      "cell_type": "code",
      "metadata": {
        "colab": {
          "base_uri": "https://localhost:8080/"
        },
        "id": "54bb6390",
        "outputId": "b0e44b64-5341-4dd5-a89f-a8951a56ae8c"
      },
      "source": [
        "import pandas as pd\n",
        "from sklearn.model_selection import train_test_split\n",
        "from sklearn.linear_model import LogisticRegression\n",
        "from sklearn.metrics import accuracy_score, classification_report\n",
        "from sklearn.datasets import make_classification\n",
        "\n",
        "# Generate an imbalanced synthetic dataset\n",
        "# n_classes=2, weights=[0.9, 0.1] creates a dataset with 90% class 0 and 10% class 1\n",
        "X, y = make_classification(n_samples=1000, n_features=20, weights=[0.9, 0.1], random_state=42, n_informative=15)\n",
        "\n",
        "# Split the dataset into training and testing sets\n",
        "X_train, X_test, y_train, y_test = train_test_split(X, y, test_size=0.3, random_state=42)\n",
        "\n",
        "print(\"Class distribution in training data:\")\n",
        "print(pd.Series(y_train).value_counts())\n",
        "\n",
        "# Train Logistic Regression WITHOUT class weights\n",
        "model_no_weights = LogisticRegression(solver='liblinear', random_state=42)\n",
        "model_no_weights.fit(X_train, y_train)\n",
        "y_pred_no_weights = model_no_weights.predict(X_test)\n",
        "\n",
        "print(\"\\n--- Model without Class Weights ---\")\n",
        "print(f\"Accuracy: {accuracy_score(y_test, y_pred_no_weights):.4f}\")\n",
        "print(\"Classification Report:\")\n",
        "print(classification_report(y_test, y_pred_no_weights))\n",
        "\n",
        "# Train Logistic Regression WITH class weights\n",
        "# class_weight='balanced' automatically adjusts weights inversely proportional\n",
        "# to class frequencies in the training data.\n",
        "model_with_weights = LogisticRegression(solver='liblinear', class_weight='balanced', random_state=42)\n",
        "model_with_weights.fit(X_train, y_train)\n",
        "y_pred_with_weights = model_with_weights.predict(X_test)\n",
        "\n",
        "print(\"\\n--- Model with Class Weights ---\")\n",
        "print(f\"Accuracy: {accuracy_score(y_test, y_pred_with_weights):.4f}\")\n",
        "print(\"Classification Report:\")\n",
        "print(classification_report(y_test, y_pred_with_weights))"
      ],
      "execution_count": 32,
      "outputs": [
        {
          "output_type": "stream",
          "name": "stdout",
          "text": [
            "Class distribution in training data:\n",
            "0    623\n",
            "1     77\n",
            "Name: count, dtype: int64\n",
            "\n",
            "--- Model without Class Weights ---\n",
            "Accuracy: 0.9200\n",
            "Classification Report:\n",
            "              precision    recall  f1-score   support\n",
            "\n",
            "           0       0.95      0.96      0.96       276\n",
            "           1       0.50      0.46      0.48        24\n",
            "\n",
            "    accuracy                           0.92       300\n",
            "   macro avg       0.73      0.71      0.72       300\n",
            "weighted avg       0.92      0.92      0.92       300\n",
            "\n",
            "\n",
            "--- Model with Class Weights ---\n",
            "Accuracy: 0.7833\n",
            "Classification Report:\n",
            "              precision    recall  f1-score   support\n",
            "\n",
            "           0       0.97      0.79      0.87       276\n",
            "           1       0.23      0.75      0.36        24\n",
            "\n",
            "    accuracy                           0.78       300\n",
            "   macro avg       0.60      0.77      0.61       300\n",
            "weighted avg       0.91      0.78      0.83       300\n",
            "\n"
          ]
        }
      ]
    },
    {
      "cell_type": "markdown",
      "metadata": {
        "id": "4aa212b9"
      },
      "source": [
        "14. **Write a Python program to train Logistic Regression on the Titanic dataset, handle missing values, and evaluate performance.**"
      ]
    },
    {
      "cell_type": "code",
      "metadata": {
        "colab": {
          "base_uri": "https://localhost:8080/"
        },
        "id": "a2e792e5",
        "outputId": "9accd75d-11b7-4d06-952d-6342050fae15"
      },
      "source": [
        "import pandas as pd\n",
        "from sklearn.model_selection import train_test_split\n",
        "from sklearn.linear_model import LogisticRegression\n",
        "from sklearn.metrics import accuracy_score, classification_report\n",
        "from sklearn.impute import SimpleImputer\n",
        "from sklearn.preprocessing import OneHotEncoder\n",
        "from sklearn.compose import ColumnTransformer\n",
        "from sklearn.pipeline import Pipeline\n",
        "from sklearn.datasets import fetch_openml # To fetch Titanic dataset\n",
        "\n",
        "# Fetch the Titanic dataset\n",
        "# 'titanic' is the dataset name on OpenML\n",
        "# version=1 specifies a particular version\n",
        "# as_frame=True returns a pandas DataFrame\n",
        "try:\n",
        "    titanic = fetch_openml('titanic', version=1, as_frame=True)\n",
        "    X = titanic.data\n",
        "    y = titanic.target\n",
        "\n",
        "    # Convert target to numeric (0 or 1)\n",
        "    y = y.astype(int)\n",
        "\n",
        "    # Select relevant features (excluding 'name', 'ticket', 'home.dest' as they need more complex handling)\n",
        "    features = ['pclass', 'sex', 'age', 'sibsp', 'parch', 'fare', 'embarked']\n",
        "    X = X[features]\n",
        "\n",
        "    # Define preprocessing steps\n",
        "    # Impute missing values for numerical and categorical features\n",
        "    # One-hot encode categorical features\n",
        "    numerical_features = ['age', 'fare']\n",
        "    categorical_features = ['pclass', 'sex', 'sibsp', 'parch', 'embarked'] # pclass is treated as categorical here\n",
        "\n",
        "    numerical_transformer = SimpleImputer(strategy='mean')\n",
        "    categorical_transformer = Pipeline(steps=[\n",
        "        ('imputer', SimpleImputer(strategy='most_frequent')),\n",
        "        ('onehot', OneHotEncoder(handle_unknown='ignore'))\n",
        "    ])\n",
        "\n",
        "    # Create a column transformer to apply different transformations to different columns\n",
        "    preprocessor = ColumnTransformer(\n",
        "        transformers=[\n",
        "            ('num', numerical_transformer, numerical_features),\n",
        "            ('cat', categorical_transformer, categorical_features)\n",
        "        ])\n",
        "\n",
        "    # Create a Logistic Regression model pipeline\n",
        "    # This pipeline first preprocesses the data and then trains the Logistic Regression model\n",
        "    model_pipeline = Pipeline(steps=[('preprocessor', preprocessor),\n",
        "                                     ('classifier', LogisticRegression(solver='liblinear', random_state=42))])\n",
        "\n",
        "    # Split the dataset into training and testing sets\n",
        "    # Use stratify to maintain the proportion of 'survived' in train and test sets\n",
        "    X_train, X_test, y_train, y_test = train_test_split(X, y, test_size=0.3, random_state=42, stratify=y)\n",
        "\n",
        "    # Train the model\n",
        "    model_pipeline.fit(X_train, y_train)\n",
        "\n",
        "    # Predict on the test set\n",
        "    y_pred = model_pipeline.predict(X_test)\n",
        "\n",
        "    # Evaluate performance\n",
        "    accuracy = accuracy_score(y_test, y_pred)\n",
        "    print(f\"Model Accuracy on Titanic Dataset: {accuracy:.4f}\")\n",
        "\n",
        "    print(\"\\nClassification Report:\")\n",
        "    print(classification_report(y_test, y_pred))\n",
        "\n",
        "except Exception as e:\n",
        "    print(f\"An error occurred while fetching or processing the Titanic dataset: {e}\")\n",
        "    print(\"Please ensure you have internet access and the 'openml' library installed (`pip install openml`).\")"
      ],
      "execution_count": 33,
      "outputs": [
        {
          "output_type": "stream",
          "name": "stdout",
          "text": [
            "Model Accuracy on Titanic Dataset: 0.8117\n",
            "\n",
            "Classification Report:\n",
            "              precision    recall  f1-score   support\n",
            "\n",
            "           0       0.84      0.86      0.85       243\n",
            "           1       0.77      0.73      0.75       150\n",
            "\n",
            "    accuracy                           0.81       393\n",
            "   macro avg       0.80      0.80      0.80       393\n",
            "weighted avg       0.81      0.81      0.81       393\n",
            "\n"
          ]
        }
      ]
    },
    {
      "cell_type": "markdown",
      "metadata": {
        "id": "7000695b"
      },
      "source": [
        "15. **Write a Python program to apply feature scaling (Standardization) before training a Logistic Regression model. Evaluate its accuracy and compare results with and without scaling.**"
      ]
    },
    {
      "cell_type": "code",
      "metadata": {
        "colab": {
          "base_uri": "https://localhost:8080/"
        },
        "id": "6ecc31db",
        "outputId": "6548f8ee-069c-4f52-fe46-36ed234e0fd4"
      },
      "source": [
        "import pandas as pd\n",
        "from sklearn.model_selection import train_test_split\n",
        "from sklearn.linear_model import LogisticRegression\n",
        "from sklearn.metrics import accuracy_score\n",
        "from sklearn.preprocessing import StandardScaler\n",
        "from sklearn.pipeline import Pipeline\n",
        "from sklearn.datasets import load_breast_cancer # Dataset where scaling can be beneficial\n",
        "\n",
        "# Load a sample dataset (Breast Cancer dataset)\n",
        "cancer = load_breast_cancer()\n",
        "X, y = cancer.data, cancer.target\n",
        "\n",
        "# Split the dataset into training and testing sets\n",
        "X_train, X_test, y_train, y_test = train_test_split(X, y, test_size=0.3, random_state=42)\n",
        "\n",
        "# --- Model WITHOUT Scaling ---\n",
        "model_no_scale = LogisticRegression(solver='liblinear', random_state=42)\n",
        "model_no_scale.fit(X_train, y_train)\n",
        "y_pred_no_scale = model_no_scale.predict(X_test)\n",
        "accuracy_no_scale = accuracy_score(y_test, y_pred_no_scale)\n",
        "print(f\"Model Accuracy WITHOUT Scaling: {accuracy_no_scale:.4f}\")\n",
        "\n",
        "# --- Model WITH Scaling ---\n",
        "# Create a pipeline that first scales the data and then applies Logistic Regression\n",
        "model_with_scale = Pipeline([\n",
        "    ('scaler', StandardScaler()),\n",
        "    ('logistic', LogisticRegression(solver='liblinear', random_state=42))\n",
        "])\n",
        "\n",
        "model_with_scale.fit(X_train, y_train)\n",
        "y_pred_with_scale = model_with_scale.predict(X_test)\n",
        "accuracy_with_scale = accuracy_score(y_test, y_pred_with_scale)\n",
        "print(f\"Model Accuracy WITH Scaling (StandardScaler): {accuracy_with_scale:.4f}\")\n",
        "\n",
        "# Compare the results\n",
        "print(\"\\nComparison:\")\n",
        "print(f\"Accuracy difference (With Scaling - Without Scaling): {accuracy_with_scale - accuracy_no_scale:.4f}\")"
      ],
      "execution_count": 34,
      "outputs": [
        {
          "output_type": "stream",
          "name": "stdout",
          "text": [
            "Model Accuracy WITHOUT Scaling: 0.9649\n",
            "Model Accuracy WITH Scaling (StandardScaler): 0.9825\n",
            "\n",
            "Comparison:\n",
            "Accuracy difference (With Scaling - Without Scaling): 0.0175\n"
          ]
        }
      ]
    },
    {
      "cell_type": "markdown",
      "metadata": {
        "id": "cd91ac2f"
      },
      "source": [
        "16. **Write a Python program to train Logistic Regression and evaluate its performance using ROC-AUC score.**"
      ]
    },
    {
      "cell_type": "code",
      "metadata": {
        "colab": {
          "base_uri": "https://localhost:8080/",
          "height": 616
        },
        "id": "20ce5f8d",
        "outputId": "4e8be52c-3dad-4d83-98d5-671042119a43"
      },
      "source": [
        "import pandas as pd\n",
        "from sklearn.model_selection import train_test_split\n",
        "from sklearn.linear_model import LogisticRegression\n",
        "from sklearn.metrics import roc_auc_score, roc_curve, accuracy_score\n",
        "from sklearn.datasets import load_breast_cancer # Binary classification dataset\n",
        "import matplotlib.pyplot as plt\n",
        "from sklearn.preprocessing import StandardScaler\n",
        "from sklearn.pipeline import Pipeline\n",
        "from sklearn.exceptions import ConvergenceWarning\n",
        "import warnings\n",
        "\n",
        "warnings.filterwarnings('ignore', category=ConvergenceWarning)\n",
        "\n",
        "\n",
        "# Load a sample binary dataset (Breast Cancer dataset)\n",
        "cancer = load_breast_cancer()\n",
        "X, y = cancer.data, cancer.target\n",
        "\n",
        "# Split the dataset into training and testing sets\n",
        "X_train, X_test, y_train, y_test = train_test_split(X, y, test_size=0.3, random_state=42)\n",
        "\n",
        "# Apply Logistic Regression with scaling and lbfgs solver\n",
        "# Need predict_proba for the curve\n",
        "model = Pipeline([\n",
        "    ('scaler', StandardScaler()),\n",
        "    ('logistic', LogisticRegression(solver='lbfgs', random_state=42, max_iter=10000)) # Increased max_iter\n",
        "])\n",
        "\n",
        "model.fit(X_train, y_train)\n",
        "\n",
        "# Predict probabilities for the positive class (class 1)\n",
        "y_pred_proba = model.predict_proba(X_test)[:, 1]\n",
        "\n",
        "# Calculate ROC-AUC score\n",
        "roc_auc = roc_auc_score(y_test, y_pred_proba)\n",
        "print(f\"ROC-AUC Score: {roc_auc:.4f}\")\n",
        "\n",
        "# Optional: Plot ROC Curve\n",
        "fpr, tpr, thresholds = roc_curve(y_test, y_pred_proba)\n",
        "\n",
        "plt.figure(figsize=(8, 6))\n",
        "plt.plot(fpr, tpr, color='darkorange', lw=2, label=f'ROC curve (area = {roc_auc:.2f})')\n",
        "plt.plot([0, 1], [0, 1], color='navy', lw=2, linestyle='--')\n",
        "plt.xlim([0.0, 1.0])\n",
        "plt.ylim([0.0, 1.05])\n",
        "plt.xlabel('False Positive Rate')\n",
        "plt.ylabel('True Positive Rate')\n",
        "plt.title('Receiver Operating Characteristic (ROC) Curve')\n",
        "plt.legend(loc=\"lower right\")\n",
        "plt.show()\n",
        "\n",
        "# Also print accuracy for comparison\n",
        "y_pred = model.predict(X_test)\n",
        "accuracy = accuracy_score(y_test, y_pred)\n",
        "print(f\"\\nModel Accuracy: {accuracy:.4f}\")"
      ],
      "execution_count": 50,
      "outputs": [
        {
          "output_type": "stream",
          "name": "stdout",
          "text": [
            "ROC-AUC Score: 0.9979\n"
          ]
        },
        {
          "output_type": "display_data",
          "data": {
            "text/plain": [
              "<Figure size 800x600 with 1 Axes>"
            ],
            "image/png": "[encoded data removed]"
          },
          "metadata": {}
        },
        {
          "output_type": "stream",
          "name": "stdout",
          "text": [
            "\n",
            "Model Accuracy: 0.9825\n"
          ]
        }
      ]
    },
    {
      "cell_type": "markdown",
      "metadata": {
        "id": "734d3303"
      },
      "source": [
        "17. **Write a Python program to train Logistic Regression using a custom learning rate (C=0.5) and evaluate accuracy.**"
      ]
    },
    {
      "cell_type": "code",
      "metadata": {
        "colab": {
          "base_uri": "https://localhost:8080/"
        },
        "id": "b0f281e2",
        "outputId": "070f3ab8-22f3-4dc2-f38c-31807c521f00"
      },
      "source": [
        "import pandas as pd\n",
        "from sklearn.model_selection import train_test_split\n",
        "from sklearn.linear_model import LogisticRegression\n",
        "from sklearn.metrics import accuracy_score\n",
        "from sklearn.datasets import load_breast_cancer # Binary classification dataset\n",
        "\n",
        "# Load a sample binary dataset (Breast Cancer dataset)\n",
        "cancer = load_breast_cancer()\n",
        "X, y = cancer.data, cancer.target\n",
        "\n",
        "# Split the dataset into training and testing sets\n",
        "X_train, X_test, y_train, y_test = train_test_split(X, y, test_size=0.3, random_state=42)\n",
        "\n",
        "# Apply Logistic Regression with a custom C value\n",
        "# C is the inverse of regularization strength; smaller C means stronger regularization.\n",
        "custom_c = 0.5\n",
        "model_custom_c = LogisticRegression(C=custom_c, solver='liblinear', random_state=42)\n",
        "model_custom_c.fit(X_train, y_train)\n",
        "\n",
        "# Predict on the test set\n",
        "y_pred_custom_c = model_custom_c.predict(X_test)\n",
        "\n",
        "# Print the model accuracy\n",
        "accuracy_custom_c = accuracy_score(y_test, y_pred_custom_c)\n",
        "print(f\"Model Accuracy with C={custom_c}: {accuracy_custom_c:.4f}\")\n",
        "\n",
        "# For comparison, train with default C (usually 1.0)\n",
        "model_default_c = LogisticRegression(solver='liblinear', random_state=42)\n",
        "model_default_c.fit(X_train, y_train)\n",
        "y_pred_default_c = model_default_c.predict(X_test)\n",
        "accuracy_default_c = accuracy_score(y_test, y_pred_default_c)\n",
        "print(f\"Model Accuracy with Default C (usually 1.0): {accuracy_default_c:.4f}\")\n",
        "\n",
        "# Note: The term \"learning rate\" is typically associated with optimization algorithms\n",
        "# like Gradient Descent. In scikit-learn's Logistic Regression, `C` controls\n",
        "# regularization strength, which indirectly affects how the model learns, but\n",
        "# it's not a step size like a learning rate in gradient descent."
      ],
      "execution_count": 37,
      "outputs": [
        {
          "output_type": "stream",
          "name": "stdout",
          "text": [
            "Model Accuracy with C=0.5: 0.9649\n",
            "Model Accuracy with Default C (usually 1.0): 0.9649\n"
          ]
        }
      ]
    },
    {
      "cell_type": "markdown",
      "metadata": {
        "id": "bcff989f"
      },
      "source": [
        "18. **Write a Python program to train Logistic Regression and identify important features based on model coefficients.**"
      ]
    },
    {
      "cell_type": "code",
      "metadata": {
        "colab": {
          "base_uri": "https://localhost:8080/"
        },
        "id": "4d805e3a",
        "outputId": "95c190ea-ce56-4884-83bf-d896e0079e8d"
      },
      "source": [
        "import pandas as pd\n",
        "from sklearn.model_selection import train_test_split\n",
        "from sklearn.linear_model import LogisticRegression\n",
        "from sklearn.datasets import load_breast_cancer # Dataset with meaningful features\n",
        "\n",
        "# Load a sample dataset (Breast Cancer dataset)\n",
        "cancer = load_breast_cancer()\n",
        "X, y = cancer.data, cancer.target\n",
        "feature_names = cancer.feature_names # Get feature names from the dataset\n",
        "\n",
        "# Split the dataset into training and testing sets\n",
        "X_train, X_test, y_train, y_test = train_test_split(X, y, test_size=0.3, random_state=42)\n",
        "\n",
        "# Apply Logistic Regression (using a solver compatible with examining coefficients)\n",
        "# 'liblinear' is good for this and handles L1/L2.\n",
        "model = LogisticRegression(solver='liblinear', random_state=42)\n",
        "model.fit(X_train, y_train)\n",
        "\n",
        "# Get the coefficients\n",
        "# For binary classification, coef_ is of shape (1, n_features)\n",
        "coefficients = model.coef_[0]\n",
        "\n",
        "# Create a DataFrame to easily view features and their coefficients\n",
        "coef_df = pd.DataFrame({'Feature': feature_names, 'Coefficient': coefficients})\n",
        "\n",
        "# Sort features by the absolute value of their coefficients to see the most influential ones\n",
        "coef_df['Abs_Coefficient'] = abs(coef_df['Coefficient'])\n",
        "sorted_coef_df = coef_df.sort_values(by='Abs_Coefficient', ascending=False)\n",
        "\n",
        "# Print the sorted coefficients\n",
        "print(\"Important Features based on Absolute Model Coefficients:\")\n",
        "print(sorted_coef_df[['Feature', 'Coefficient']])\n",
        "\n",
        "# Note: Interpretation of coefficients should be done carefully, especially with\n",
        "# correlated features or if features are not on the same scale (consider scaling).\n",
        "# The sign of the coefficient indicates the direction of the relationship with\n",
        "# the log-odds of the positive class."
      ],
      "execution_count": 36,
      "outputs": [
        {
          "output_type": "stream",
          "name": "stdout",
          "text": [
            "Important Features based on Absolute Model Coefficients:\n",
            "                    Feature  Coefficient\n",
            "0               mean radius     2.175329\n",
            "26          worst concavity    -1.579345\n",
            "11            texture error     1.403643\n",
            "20             worst radius     1.155193\n",
            "25        worst compactness    -1.139760\n",
            "28           worst symmetry    -0.729143\n",
            "6            mean concavity    -0.655026\n",
            "27     worst concave points    -0.617351\n",
            "5          mean compactness    -0.411271\n",
            "21            worst texture    -0.390328\n",
            "7       mean concave points    -0.350106\n",
            "24         worst smoothness    -0.242144\n",
            "8             mean symmetry    -0.202222\n",
            "1              mean texture     0.159658\n",
            "4           mean smoothness    -0.130413\n",
            "2            mean perimeter    -0.125372\n",
            "12          perimeter error     0.117866\n",
            "29  worst fractal dimension    -0.110785\n",
            "13               area error    -0.109265\n",
            "22          worst perimeter    -0.076792\n",
            "10             radius error    -0.066118\n",
            "16          concavity error    -0.063487\n",
            "18           symmetry error    -0.048783\n",
            "17     concave points error    -0.041148\n",
            "9    mean fractal dimension    -0.029289\n",
            "15        compactness error    -0.024838\n",
            "23               worst area    -0.021324\n",
            "14         smoothness error    -0.014646\n",
            "3                 mean area    -0.004002\n",
            "19  fractal dimension error    -0.000769\n"
          ]
        }
      ]
    },
    {
      "cell_type": "markdown",
      "metadata": {
        "id": "51b75c04"
      },
      "source": [
        "Here are more Python programs for practical Logistic Regression tasks:"
      ]
    },
    {
      "cell_type": "markdown",
      "metadata": {
        "id": "183e6100"
      },
      "source": [
        "19. **Write a Python program to train Logistic Regression and evaluate its performance using Cohen’s Kappa Score.**"
      ]
    },
    {
      "cell_type": "code",
      "metadata": {
        "colab": {
          "base_uri": "https://localhost:8080/"
        },
        "id": "9f5be204",
        "outputId": "d9cfb147-7ed0-46cd-919c-fdcb73bb861e"
      },
      "source": [
        "import pandas as pd\n",
        "from sklearn.model_selection import train_test_split\n",
        "from sklearn.linear_model import LogisticRegression\n",
        "from sklearn.metrics import cohen_kappa_score, accuracy_score\n",
        "from sklearn.datasets import load_breast_cancer # Binary classification dataset\n",
        "\n",
        "# Load a sample binary dataset (Breast Cancer dataset)\n",
        "cancer = load_breast_cancer()\n",
        "X, y = cancer.data, cancer.target\n",
        "\n",
        "# Split the dataset into training and testing sets\n",
        "X_train, X_test, y_train, y_test = train_test_split(X, y, test_size=0.3, random_state=42)\n",
        "\n",
        "# Apply Logistic Regression\n",
        "model = LogisticRegression(solver='liblinear', random_state=42)\n",
        "model.fit(X_train, y_train)\n",
        "\n",
        "# Predict on the test set\n",
        "y_pred = model.predict(X_test)\n",
        "\n",
        "# Calculate Cohen's Kappa Score\n",
        "kappa = cohen_kappa_score(y_test, y_pred)\n",
        "\n",
        "# Print the score\n",
        "print(f\"Model Accuracy: {accuracy_score(y_test, y_pred):.4f}\")\n",
        "print(f\"Cohen's Kappa Score: {kappa:.4f}\")\n",
        "\n",
        "# Note: Kappa score measures the agreement between two raters (in this case,\n",
        "# the model and the true labels) beyond what would be expected by chance.\n",
        "# A score of 1 indicates perfect agreement, 0 indicates agreement equivalent\n",
        "# to random chance, and negative scores indicate agreement less than chance."
      ],
      "execution_count": 39,
      "outputs": [
        {
          "output_type": "stream",
          "name": "stdout",
          "text": [
            "Model Accuracy: 0.9649\n",
            "Cohen's Kappa Score: 0.9241\n"
          ]
        }
      ]
    },
    {
      "cell_type": "markdown",
      "metadata": {
        "id": "8a3a699f"
      },
      "source": [
        "20. **Write a Python program to train Logistic Regression and visualize the Precision-Recall Curve for binary classification.**"
      ]
    },
    {
      "cell_type": "code",
      "metadata": {
        "colab": {
          "base_uri": "https://localhost:8080/",
          "height": 599
        },
        "id": "2cca38f9",
        "outputId": "eae42e1e-4d9a-48e0-9a45-ed61c992f6d1"
      },
      "source": [
        "import pandas as pd\n",
        "import matplotlib.pyplot as plt\n",
        "from sklearn.model_selection import train_test_split\n",
        "from sklearn.linear_model import LogisticRegression\n",
        "from sklearn.metrics import precision_recall_curve, auc, average_precision_score\n",
        "from sklearn.datasets import load_breast_cancer # Binary classification dataset\n",
        "from sklearn.preprocessing import StandardScaler\n",
        "from sklearn.pipeline import Pipeline\n",
        "\n",
        "\n",
        "# Load a sample binary dataset (Breast Cancer dataset)\n",
        "cancer = load_breast_cancer()\n",
        "X, y = cancer.data, cancer.target\n",
        "\n",
        "# Split the dataset into training and testing sets\n",
        "X_train, X_test, y_train, y_test = train_test_split(X, y, test_size=0.3, random_state=42)\n",
        "\n",
        "# Apply Logistic Regression with scaling and lbfgs solver\n",
        "# Need predict_proba for the curve\n",
        "model = Pipeline([\n",
        "    ('scaler', StandardScaler()),\n",
        "    ('logistic', LogisticRegression(solver='lbfgs', random_state=42))\n",
        "])\n",
        "\n",
        "model.fit(X_train, y_train)\n",
        "\n",
        "# Predict probabilities for the positive class (class 1)\n",
        "y_scores = model.predict_proba(X_test)[:, 1]\n",
        "\n",
        "# Calculate Precision-Recall curve\n",
        "precision, recall, thresholds = precision_recall_curve(y_test, y_scores)\n",
        "\n",
        "# Calculate Area Under the Precision-Recall Curve (AUPRC)\n",
        "auprc = auc(recall, precision)\n",
        "average_precision = average_precision_score(y_test, y_scores) # Alternative calculation\n",
        "\n",
        "print(f\"Area Under the Precision-Recall Curve (AUPRC): {auprc:.4f}\")\n",
        "print(f\"Average Precision Score: {average_precision:.4f}\")\n",
        "\n",
        "\n",
        "# Plot the Precision-Recall curve\n",
        "plt.figure(figsize=(8, 6))\n",
        "plt.plot(recall, precision, color='darkorange', lw=2, label=f'Precision-Recall curve (area = {auprc:.2f})')\n",
        "plt.xlabel('Recall')\n",
        "plt.ylabel('Precision')\n",
        "plt.title('Precision-Recall Curve - Logistic Regression')\n",
        "plt.legend(loc=\"lower left\")\n",
        "plt.ylim([0.0, 1.05])\n",
        "plt.xlim([0.0, 1.0])\n",
        "plt.show()"
      ],
      "execution_count": 47,
      "outputs": [
        {
          "output_type": "stream",
          "name": "stdout",
          "text": [
            "Area Under the Precision-Recall Curve (AUPRC): 0.9988\n",
            "Average Precision Score: 0.9988\n"
          ]
        },
        {
          "output_type": "display_data",
          "data": {
            "text/plain": [
              "<Figure size 800x600 with 1 Axes>"
            ],
            "image/png": "[encoded data removed]"
          },
          "metadata": {}
        }
      ]
    },
    {
      "cell_type": "markdown",
      "metadata": {
        "id": "05f18872"
      },
      "source": [
        "21. **Write a Python program to train Logistic Regression with different solvers (liblinear, saga, lbfgs) and compare their accuracy.**"
      ]
    },
    {
      "cell_type": "code",
      "metadata": {
        "colab": {
          "base_uri": "https://localhost:8080/"
        },
        "id": "a68346b3",
        "outputId": "d6c5d04a-ed1c-43c3-83f2-48dbddc7b38a"
      },
      "source": [
        "import pandas as pd\n",
        "from sklearn.model_selection import train_test_split\n",
        "from sklearn.linear_model import LogisticRegression\n",
        "from sklearn.metrics import accuracy_score\n",
        "from sklearn.datasets import load_breast_cancer\n",
        "import warnings\n",
        "warnings.filterwarnings('ignore', category=FutureWarning) # Ignore specific warnings\n",
        "\n",
        "# Load a sample dataset (Breast Cancer dataset)\n",
        "cancer = load_breast_cancer()\n",
        "X, y = cancer.data, cancer.target\n",
        "\n",
        "# Split the dataset into training and testing sets\n",
        "X_train, X_test, y_train, y_test = train_test_split(X, y, test_size=0.3, random_state=42)\n",
        "\n",
        "# Define different solvers to test\n",
        "solvers = ['liblinear', 'lbfgs', 'saga'] # Common solvers supporting L2\n",
        "\n",
        "# Train and evaluate models with different solvers\n",
        "results = {}\n",
        "for solver in solvers:\n",
        "    try:\n",
        "        # Note: saga and lbfgs can benefit from scaled data for convergence\n",
        "        # For simplicity, let's use unscaled data here to show solver comparison directly,\n",
        "        # but in practice, scaling is often recommended for these solvers.\n",
        "        if solver == 'saga':\n",
        "             # saga also supports elasticnet and l1, but comparing with l2 here\n",
        "            model = LogisticRegression(solver=solver, penalty='l2', max_iter=10000, random_state=42)\n",
        "        elif solver == 'liblinear':\n",
        "             # liblinear is good for smaller datasets and supports l1/l2\n",
        "            model = LogisticRegression(solver=solver, penalty='l2', random_state=42)\n",
        "        else: # lbfgs\n",
        "             # lbfgs is the default and good for general use with L2\n",
        "            model = LogisticRegression(solver=solver, penalty='l2', max_iter=10000, random_state=42)\n",
        "\n",
        "\n",
        "        model.fit(X_train, y_train)\n",
        "        y_pred = model.predict(X_test)\n",
        "        accuracy = accuracy_score(y_test, y_pred)\n",
        "        results[solver] = accuracy\n",
        "    except Exception as e:\n",
        "        results[solver] = f\"Error: {e}\"\n",
        "        print(f\"Error with solver '{solver}': {e}\")\n",
        "\n",
        "\n",
        "# Print the results\n",
        "print(\"Model Accuracy with Different Solvers:\")\n",
        "for solver, accuracy in results.items():\n",
        "    print(f\"Solver '{solver}': {accuracy:.4f}\" if isinstance(accuracy, float) else f\"Solver '{solver}': {accuracy}\")"
      ],
      "execution_count": 49,
      "outputs": [
        {
          "output_type": "stream",
          "name": "stdout",
          "text": [
            "Model Accuracy with Different Solvers:\n",
            "Solver 'liblinear': 0.9649\n",
            "Solver 'lbfgs': 0.9766\n",
            "Solver 'saga': 0.9649\n"
          ]
        }
      ]
    },
    {
      "cell_type": "markdown",
      "metadata": {
        "id": "3fd8a2cc"
      },
      "source": [
        "22. **Write a Python program to train Logistic Regression and evaluate its performance using Matthews Correlation Coefficient (MCC).**"
      ]
    },
    {
      "cell_type": "code",
      "metadata": {
        "colab": {
          "base_uri": "https://localhost:8080/"
        },
        "id": "9e592a95",
        "outputId": "32e6ca56-b27f-4376-fc35-2faddfed5664"
      },
      "source": [
        "import pandas as pd\n",
        "from sklearn.model_selection import train_test_split\n",
        "from sklearn.linear_model import LogisticRegression\n",
        "from sklearn.metrics import matthews_corrcoef, accuracy_score\n",
        "from sklearn.datasets import load_breast_cancer # Binary classification dataset\n",
        "\n",
        "# Load a sample binary dataset (Breast Cancer dataset)\n",
        "cancer = load_breast_cancer()\n",
        "X, y = cancer.data, cancer.target\n",
        "\n",
        "# Split the dataset into training and testing sets\n",
        "X_train, X_test, y_train, y_test = train_test_split(X, y, test_size=0.3, random_state=42)\n",
        "\n",
        "# Apply Logistic Regression\n",
        "model = LogisticRegression(solver='liblinear', random_state=42)\n",
        "model.fit(X_train, y_train)\n",
        "\n",
        "# Predict on the test set\n",
        "y_pred = model.predict(X_test)\n",
        "\n",
        "# Calculate Matthews Correlation Coefficient (MCC)\n",
        "mcc = matthews_corrcoef(y_test, y_pred)\n",
        "\n",
        "# Print the score\n",
        "print(f\"Model Accuracy: {accuracy_score(y_test, y_pred):.4f}\")\n",
        "print(f\"Matthews Correlation Coefficient (MCC): {mcc:.4f}\")\n",
        "\n",
        "# Note: MCC is a measure of the quality of binary classifications.\n",
        "# A coefficient of +1 represents a perfect prediction, 0 represents no better\n",
        "# than random prediction, and -1 represents total disagreement between\n",
        "# prediction and observation. It's considered a balanced measure, even for\n",
        "# imbalanced classes."
      ],
      "execution_count": 42,
      "outputs": [
        {
          "output_type": "stream",
          "name": "stdout",
          "text": [
            "Model Accuracy: 0.9649\n",
            "Matthews Correlation Coefficient (MCC): 0.9244\n"
          ]
        }
      ]
    },
    {
      "cell_type": "markdown",
      "metadata": {
        "id": "e11f9463"
      },
      "source": [
        "23. **Write a Python program to train Logistic Regression on both raw and standardized data. Compare their accuracy to see the impact of feature scaling.**"
      ]
    },
    {
      "cell_type": "code",
      "metadata": {
        "colab": {
          "base_uri": "https://localhost:8080/"
        },
        "id": "936342dc",
        "outputId": "f26901bf-5230-4beb-c16e-5a55379f0c9f"
      },
      "source": [
        "import pandas as pd\n",
        "from sklearn.model_selection import train_test_split\n",
        "from sklearn.linear_model import LogisticRegression\n",
        "from sklearn.metrics import accuracy_score\n",
        "from sklearn.preprocessing import StandardScaler\n",
        "from sklearn.pipeline import Pipeline\n",
        "from sklearn.datasets import load_breast_cancer # Dataset where scaling can be beneficial\n",
        "\n",
        "# Load a sample dataset (Breast Cancer dataset)\n",
        "cancer = load_breast_cancer()\n",
        "X, y = cancer.data, cancer.target\n",
        "\n",
        "# Split the dataset into training and testing sets\n",
        "X_train, X_test, y_train, y_test = train_test_split(X, y, test_size=0.3, random_state=42)\n",
        "\n",
        "# --- Model WITHOUT Scaling ---\n",
        "model_no_scale = LogisticRegression(solver='liblinear', random_state=42)\n",
        "model_no_scale.fit(X_train, y_train)\n",
        "y_pred_no_scale = model_no_scale.predict(X_test)\n",
        "accuracy_no_scale = accuracy_score(y_test, y_pred_no_scale)\n",
        "print(f\"Model Accuracy WITHOUT Scaling: {accuracy_no_scale:.4f}\")\n",
        "\n",
        "# --- Model WITH Scaling ---\n",
        "# Create a pipeline that first scales the data and then applies Logistic Regression\n",
        "model_with_scale = Pipeline([\n",
        "    ('scaler', StandardScaler()),\n",
        "    ('logistic', LogisticRegression(solver='liblinear', random_state=42))\n",
        "])\n",
        "\n",
        "model_with_scale.fit(X_train, y_train)\n",
        "y_pred_with_scale = model_with_scale.predict(X_test)\n",
        "accuracy_with_scale = accuracy_score(y_test, y_pred_with_scale)\n",
        "print(f\"Model Accuracy WITH Scaling (StandardScaler): {accuracy_with_scale:.4f}\")\n",
        "\n",
        "# Compare the results\n",
        "print(\"\\nComparison:\")\n",
        "print(f\"Accuracy difference (With Scaling - Without Scaling): {accuracy_with_scale - accuracy_no_scale:.4f}\")"
      ],
      "execution_count": 43,
      "outputs": [
        {
          "output_type": "stream",
          "name": "stdout",
          "text": [
            "Model Accuracy WITHOUT Scaling: 0.9649\n",
            "Model Accuracy WITH Scaling (StandardScaler): 0.9825\n",
            "\n",
            "Comparison:\n",
            "Accuracy difference (With Scaling - Without Scaling): 0.0175\n"
          ]
        }
      ]
    },
    {
      "cell_type": "markdown",
      "metadata": {
        "id": "4276c0f6"
      },
      "source": [
        "24. **Write a Python program to train Logistic Regression and find the optimal C (regularization strength) using cross-validation.**"
      ]
    },
    {
      "cell_type": "code",
      "metadata": {
        "colab": {
          "base_uri": "https://localhost:8080/"
        },
        "id": "c1f5d0d6",
        "outputId": "2dc794f8-a4f4-47c9-856d-8816086b3b8f"
      },
      "source": [
        "import pandas as pd\n",
        "from sklearn.model_selection import train_test_split, GridSearchCV\n",
        "from sklearn.linear_model import LogisticRegression\n",
        "from sklearn.metrics import accuracy_score\n",
        "from sklearn.datasets import load_breast_cancer\n",
        "from sklearn.preprocessing import StandardScaler # Often good practice to scale when tuning C\n",
        "\n",
        "# Load a sample dataset (Breast Cancer dataset)\n",
        "cancer = load_breast_cancer()\n",
        "X, y = cancer.data, cancer.target\n",
        "\n",
        "# Split the dataset into training and testing sets\n",
        "X_train, X_test, y_train, y_test = train_test_split(X, y, test_size=0.3, random_state=42)\n",
        "\n",
        "# Scale the data (recommended when tuning C, especially with L2)\n",
        "scaler = StandardScaler()\n",
        "X_train_scaled = scaler.fit_transform(X_train)\n",
        "X_test_scaled = scaler.transform(X_test)\n",
        "\n",
        "\n",
        "# Define the parameter grid for C\n",
        "# C is the inverse of regularization strength. Smaller C means stronger regularization.\n",
        "# We'll search across a range of C values.\n",
        "param_grid = {'C': [0.001, 0.01, 0.1, 1, 10, 100]}\n",
        "\n",
        "# Create a Logistic Regression model (using a solver compatible with L2, which is default)\n",
        "model = LogisticRegression(solver='liblinear', random_state=42) # liblinear works well for this range of C\n",
        "\n",
        "# Apply GridSearchCV to find the best C\n",
        "grid_search = GridSearchCV(model, param_grid, cv=5, scoring='accuracy') # cv=5 for 5-fold cross-validation\n",
        "grid_search.fit(X_train_scaled, y_train) # Fit on scaled training data\n",
        "\n",
        "# Print the best parameter (C) and the corresponding cross-validation score\n",
        "print(\"Best C found by GridSearchCV:\")\n",
        "print(grid_search.best_params_)\n",
        "\n",
        "print(\"\\nBest Cross-Validation Accuracy for the optimal C:\")\n",
        "print(f\"{grid_search.best_score_:.4f}\")\n",
        "\n",
        "# Evaluate the best model on the test set\n",
        "best_model = grid_search.best_estimator_\n",
        "y_pred = best_model.predict(X_test_scaled) # Predict on scaled test data\n",
        "test_accuracy = accuracy_score(y_test, y_pred)\n",
        "print(f\"\\nTest Set Accuracy with Optimal C: {test_accuracy:.4f}\")"
      ],
      "execution_count": 44,
      "outputs": [
        {
          "output_type": "stream",
          "name": "stdout",
          "text": [
            "Best C found by GridSearchCV:\n",
            "{'C': 0.1}\n",
            "\n",
            "Best Cross-Validation Accuracy for the optimal C:\n",
            "0.9774\n",
            "\n",
            "Test Set Accuracy with Optimal C: 0.9942\n"
          ]
        }
      ]
    },
    {
      "cell_type": "markdown",
      "metadata": {
        "id": "9f11b290"
      },
      "source": [
        "25. **Write a Python program to train Logistic Regression, save the trained model using joblib, and load it again to make predictions.**"
      ]
    },
    {
      "cell_type": "code",
      "metadata": {
        "colab": {
          "base_uri": "https://localhost:8080/"
        },
        "id": "d3df80e7",
        "outputId": "1e82204c-b970-4b3e-b5a8-808a5465b961"
      },
      "source": [
        "import pandas as pd\n",
        "from sklearn.model_selection import train_test_split\n",
        "from sklearn.linear_model import LogisticRegression\n",
        "from sklearn.metrics import accuracy_score\n",
        "from sklearn.datasets import load_breast_cancer\n",
        "import joblib # Library for saving and loading models\n",
        "\n",
        "# Load a sample dataset (Breast Cancer dataset)\n",
        "cancer = load_breast_cancer()\n",
        "X, y = cancer.data, cancer.target\n",
        "\n",
        "# Split the dataset into training and testing sets\n",
        "X_train, X_test, y_train, y_test = train_test_split(X, y, test_size=0.3, random_state=42)\n",
        "\n",
        "# --- Train the model ---\n",
        "model = LogisticRegression(solver='liblinear', random_state=42)\n",
        "model.fit(X_train, y_train)\n",
        "\n",
        "# --- Save the trained model ---\n",
        "model_filename = 'logistic_regression_model.joblib'\n",
        "joblib.dump(model, model_filename)\n",
        "print(f\"Trained model saved to {model_filename}\")\n",
        "\n",
        "# --- Load the model from the file ---\n",
        "loaded_model = joblib.load(model_filename)\n",
        "print(f\"Model loaded from {model_filename}\")\n",
        "\n",
        "# --- Make predictions using the loaded model ---\n",
        "y_pred_loaded = loaded_model.predict(X_test)\n",
        "\n",
        "# --- Evaluate the loaded model (should give the same accuracy as the original model) ---\n",
        "accuracy_loaded = accuracy_score(y_test, y_pred_loaded)\n",
        "print(f\"\\nAccuracy using the loaded model: {accuracy_loaded:.4f}\")\n",
        "\n",
        "# Verify that predictions are the same\n",
        "# print(\"\\nPredictions from original model vs loaded model:\")\n",
        "# print(model.predict(X_test)[:5])\n",
        "# print(y_pred_loaded[:5])\n",
        "# print(\"Are predictions identical?\", (model.predict(X_test) == y_pred_loaded).all())"
      ],
      "execution_count": 45,
      "outputs": [
        {
          "output_type": "stream",
          "name": "stdout",
          "text": [
            "Trained model saved to logistic_regression_model.joblib\n",
            "Model loaded from logistic_regression_model.joblib\n",
            "\n",
            "Accuracy using the loaded model: 0.9649\n"
          ]
        }
      ]
    }
  ]
}